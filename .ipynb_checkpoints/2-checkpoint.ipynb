{
 "cells": [
  {
   "cell_type": "markdown",
   "id": "b331a782",
   "metadata": {},
   "source": [
    "# Analiza Sprzedaży na Portalu E-commerce## Podsumowanie i Wnioski### Analiza Sprzedaży Sprzedawców:Analiza obrotu sprzedawców pozwoliła nam zidentyfikować zarówno liderów, jak i outsiderów na naszym portalu e-commerce. Z pięciu najlepszych sprzedawców pod względem obrotu można wywnioskować, że ci sprzedawcy mają skuteczne strategie sprzedażowe, co przyczynia się do ich sukcesu. Z drugiej strony, identyfikacja pięciu sprzedawców z najmniejszym obrotem pozwala nam zwrócić uwagę na obszary, które mogą wymagać optymalizacji lub wsparcia."
   ]
  },
  {
   "cell_type": "code",
   "execution_count": null,
   "id": "fd7e1f79",
   "metadata": {},
   "outputs": [],
   "source": [
    "import pandas as pdimport matplotlib.pyplot as pltimport seaborn as snsorders = pd.read_csv('/path/to/orders.csv')products = pd.read_csv('/path/to/products.csv')sellers = pd.read_csv('/path/to/sellers.csv', delimiter=';')order_items = pd.read_csv('/path/to/order_items.csv')customers = pd.read_csv('/path/to/customers.csv')orders['order_purchase_timestamp'] = pd.to_datetime(orders['order_purchase_timestamp'])products['product_weight_g'].fillna(products['product_weight_g'].mean(), inplace=True)merged_data = pd.merge(order_items, products, on='product_id')merged_data = pd.merge(merged_data, sellers, on='seller_id')merged_data = pd.merge(merged_data, orders, on='order_id')merged_data = pd.merge(merged_data, customers, on='customer_id')merged_data['total_price'] = merged_data['price'] + merged_data['freight_value']plt.figure(figsize=(10, 6))sns.scatterplot(x='product_weight_g', y='total_price', data=merged_data, alpha=0.5)plt.title('Product Weight vs Turnover')plt.xlabel('Product Weight (grams)')plt.ylabel('Turnover ($)')plt.grid(True)plt.show()"
   ]
  }
 ],
 "metadata": {
  "kernelspec": {
   "display_name": "Python 3 (ipykernel)",
   "language": "python",
   "name": "python3"
  },
  "language_info": {
   "codemirror_mode": {
    "name": "ipython",
    "version": 3
   },
   "file_extension": ".py",
   "mimetype": "text/x-python",
   "name": "python",
   "nbconvert_exporter": "python",
   "pygments_lexer": "ipython3",
   "version": "3.11.3"
  }
 },
 "nbformat": 4,
 "nbformat_minor": 5
}
